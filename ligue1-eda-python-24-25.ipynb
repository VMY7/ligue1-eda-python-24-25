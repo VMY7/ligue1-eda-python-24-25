{
 "cells": [
  {
   "cell_type": "code",
   "id": "initial_id",
   "metadata": {
    "collapsed": true,
    "ExecuteTime": {
     "end_time": "2025-09-03T14:26:23.933689Z",
     "start_time": "2025-09-03T14:26:23.929640Z"
    }
   },
   "source": [
    "import pandas as pd\n",
    "import numpy as np\n",
    "import matplotlib.pyplot as plt\n",
    "import seaborn as sns\n",
    "import datetime as dt"
   ],
   "outputs": [],
   "execution_count": 39
  },
  {
   "metadata": {
    "ExecuteTime": {
     "end_time": "2025-09-03T14:00:12.007939Z",
     "start_time": "2025-09-03T14:00:11.946455Z"
    }
   },
   "cell_type": "code",
   "source": "df = pd.read_csv(\"data/24-25.csv\")",
   "id": "e68beb5443657d3b",
   "outputs": [],
   "execution_count": 3
  },
  {
   "metadata": {
    "ExecuteTime": {
     "end_time": "2025-09-03T14:00:13.571140Z",
     "start_time": "2025-09-03T14:00:13.527882Z"
    }
   },
   "cell_type": "code",
   "source": "df.head()",
   "id": "9902678ee8dfa6fb",
   "outputs": [
    {
     "data": {
      "text/plain": [
       "  Div        Date   Time  HomeTeam    AwayTeam  FTHG  FTAG FTR  HTHG  HTAG  \\\n",
       "0  F1  16/08/2024  19:45  Le Havre    Paris SG     1     4   A     0     1   \n",
       "1  F1  17/08/2024  16:00     Brest   Marseille     1     5   A     1     3   \n",
       "2  F1  17/08/2024  18:00     Reims       Lille     0     2   A     0     1   \n",
       "3  F1  17/08/2024  20:00    Monaco  St Etienne     1     0   H     1     0   \n",
       "4  F1  18/08/2024  14:00   Auxerre        Nice     2     1   H     1     1   \n",
       "\n",
       "   ... B365CAHH  B365CAHA  PCAHH  PCAHA  MaxCAHH  MaxCAHA  AvgCAHH  AvgCAHA  \\\n",
       "0  ...     1.93      2.00   1.95   1.97     1.95     2.02     1.89     1.95   \n",
       "1  ...     1.89      2.04   1.91   2.02     1.91     2.08     1.85     2.01   \n",
       "2  ...     2.10      1.70   2.14   1.81     2.14     1.85     2.07     1.80   \n",
       "3  ...     2.00      1.93   2.00   1.93     2.00     2.01     1.95     1.91   \n",
       "4  ...     1.82      2.11   1.82   2.13     1.83     2.17     1.77     2.10   \n",
       "\n",
       "   BFECAHH  BFECAHA  \n",
       "0     1.95     2.02  \n",
       "1     1.90     2.09  \n",
       "2     2.13     1.86  \n",
       "3     1.95     2.00  \n",
       "4     1.84     2.16  \n",
       "\n",
       "[5 rows x 119 columns]"
      ],
      "text/html": [
       "<div>\n",
       "<style scoped>\n",
       "    .dataframe tbody tr th:only-of-type {\n",
       "        vertical-align: middle;\n",
       "    }\n",
       "\n",
       "    .dataframe tbody tr th {\n",
       "        vertical-align: top;\n",
       "    }\n",
       "\n",
       "    .dataframe thead th {\n",
       "        text-align: right;\n",
       "    }\n",
       "</style>\n",
       "<table border=\"1\" class=\"dataframe\">\n",
       "  <thead>\n",
       "    <tr style=\"text-align: right;\">\n",
       "      <th></th>\n",
       "      <th>Div</th>\n",
       "      <th>Date</th>\n",
       "      <th>Time</th>\n",
       "      <th>HomeTeam</th>\n",
       "      <th>AwayTeam</th>\n",
       "      <th>FTHG</th>\n",
       "      <th>FTAG</th>\n",
       "      <th>FTR</th>\n",
       "      <th>HTHG</th>\n",
       "      <th>HTAG</th>\n",
       "      <th>...</th>\n",
       "      <th>B365CAHH</th>\n",
       "      <th>B365CAHA</th>\n",
       "      <th>PCAHH</th>\n",
       "      <th>PCAHA</th>\n",
       "      <th>MaxCAHH</th>\n",
       "      <th>MaxCAHA</th>\n",
       "      <th>AvgCAHH</th>\n",
       "      <th>AvgCAHA</th>\n",
       "      <th>BFECAHH</th>\n",
       "      <th>BFECAHA</th>\n",
       "    </tr>\n",
       "  </thead>\n",
       "  <tbody>\n",
       "    <tr>\n",
       "      <th>0</th>\n",
       "      <td>F1</td>\n",
       "      <td>16/08/2024</td>\n",
       "      <td>19:45</td>\n",
       "      <td>Le Havre</td>\n",
       "      <td>Paris SG</td>\n",
       "      <td>1</td>\n",
       "      <td>4</td>\n",
       "      <td>A</td>\n",
       "      <td>0</td>\n",
       "      <td>1</td>\n",
       "      <td>...</td>\n",
       "      <td>1.93</td>\n",
       "      <td>2.00</td>\n",
       "      <td>1.95</td>\n",
       "      <td>1.97</td>\n",
       "      <td>1.95</td>\n",
       "      <td>2.02</td>\n",
       "      <td>1.89</td>\n",
       "      <td>1.95</td>\n",
       "      <td>1.95</td>\n",
       "      <td>2.02</td>\n",
       "    </tr>\n",
       "    <tr>\n",
       "      <th>1</th>\n",
       "      <td>F1</td>\n",
       "      <td>17/08/2024</td>\n",
       "      <td>16:00</td>\n",
       "      <td>Brest</td>\n",
       "      <td>Marseille</td>\n",
       "      <td>1</td>\n",
       "      <td>5</td>\n",
       "      <td>A</td>\n",
       "      <td>1</td>\n",
       "      <td>3</td>\n",
       "      <td>...</td>\n",
       "      <td>1.89</td>\n",
       "      <td>2.04</td>\n",
       "      <td>1.91</td>\n",
       "      <td>2.02</td>\n",
       "      <td>1.91</td>\n",
       "      <td>2.08</td>\n",
       "      <td>1.85</td>\n",
       "      <td>2.01</td>\n",
       "      <td>1.90</td>\n",
       "      <td>2.09</td>\n",
       "    </tr>\n",
       "    <tr>\n",
       "      <th>2</th>\n",
       "      <td>F1</td>\n",
       "      <td>17/08/2024</td>\n",
       "      <td>18:00</td>\n",
       "      <td>Reims</td>\n",
       "      <td>Lille</td>\n",
       "      <td>0</td>\n",
       "      <td>2</td>\n",
       "      <td>A</td>\n",
       "      <td>0</td>\n",
       "      <td>1</td>\n",
       "      <td>...</td>\n",
       "      <td>2.10</td>\n",
       "      <td>1.70</td>\n",
       "      <td>2.14</td>\n",
       "      <td>1.81</td>\n",
       "      <td>2.14</td>\n",
       "      <td>1.85</td>\n",
       "      <td>2.07</td>\n",
       "      <td>1.80</td>\n",
       "      <td>2.13</td>\n",
       "      <td>1.86</td>\n",
       "    </tr>\n",
       "    <tr>\n",
       "      <th>3</th>\n",
       "      <td>F1</td>\n",
       "      <td>17/08/2024</td>\n",
       "      <td>20:00</td>\n",
       "      <td>Monaco</td>\n",
       "      <td>St Etienne</td>\n",
       "      <td>1</td>\n",
       "      <td>0</td>\n",
       "      <td>H</td>\n",
       "      <td>1</td>\n",
       "      <td>0</td>\n",
       "      <td>...</td>\n",
       "      <td>2.00</td>\n",
       "      <td>1.93</td>\n",
       "      <td>2.00</td>\n",
       "      <td>1.93</td>\n",
       "      <td>2.00</td>\n",
       "      <td>2.01</td>\n",
       "      <td>1.95</td>\n",
       "      <td>1.91</td>\n",
       "      <td>1.95</td>\n",
       "      <td>2.00</td>\n",
       "    </tr>\n",
       "    <tr>\n",
       "      <th>4</th>\n",
       "      <td>F1</td>\n",
       "      <td>18/08/2024</td>\n",
       "      <td>14:00</td>\n",
       "      <td>Auxerre</td>\n",
       "      <td>Nice</td>\n",
       "      <td>2</td>\n",
       "      <td>1</td>\n",
       "      <td>H</td>\n",
       "      <td>1</td>\n",
       "      <td>1</td>\n",
       "      <td>...</td>\n",
       "      <td>1.82</td>\n",
       "      <td>2.11</td>\n",
       "      <td>1.82</td>\n",
       "      <td>2.13</td>\n",
       "      <td>1.83</td>\n",
       "      <td>2.17</td>\n",
       "      <td>1.77</td>\n",
       "      <td>2.10</td>\n",
       "      <td>1.84</td>\n",
       "      <td>2.16</td>\n",
       "    </tr>\n",
       "  </tbody>\n",
       "</table>\n",
       "<p>5 rows × 119 columns</p>\n",
       "</div>"
      ]
     },
     "execution_count": 4,
     "metadata": {},
     "output_type": "execute_result"
    }
   ],
   "execution_count": 4
  },
  {
   "metadata": {
    "ExecuteTime": {
     "end_time": "2025-09-03T14:00:18.361890Z",
     "start_time": "2025-09-03T14:00:18.335725Z"
    }
   },
   "cell_type": "code",
   "source": "df.info()",
   "id": "3f0a3c4c1ca51874",
   "outputs": [
    {
     "name": "stdout",
     "output_type": "stream",
     "text": [
      "<class 'pandas.core.frame.DataFrame'>\n",
      "RangeIndex: 306 entries, 0 to 305\n",
      "Columns: 119 entries, Div to BFECAHA\n",
      "dtypes: float64(96), int64(16), object(7)\n",
      "memory usage: 284.6+ KB\n"
     ]
    }
   ],
   "execution_count": 5
  },
  {
   "metadata": {},
   "cell_type": "markdown",
   "source": "# 1. Nettoyage et préparation des données",
   "id": "9379ea6c1045650a"
  },
  {
   "metadata": {},
   "cell_type": "markdown",
   "source": "- Supprimer ou gérer les valeurs manquantes (NaN) pour les colonnes clés (scores, cotes, cartons, tirs)",
   "id": "fedb0ba39aa26f29"
  },
  {
   "metadata": {
    "ExecuteTime": {
     "end_time": "2025-09-03T14:11:06.966105Z",
     "start_time": "2025-09-03T14:11:06.956520Z"
    }
   },
   "cell_type": "code",
   "source": "df.isnull().sum()",
   "id": "1d7404e4247c3d84",
   "outputs": [
    {
     "data": {
      "text/plain": [
       "Div         0\n",
       "Date        0\n",
       "Time        0\n",
       "HomeTeam    0\n",
       "AwayTeam    0\n",
       "           ..\n",
       "MaxCAHA     0\n",
       "AvgCAHH     0\n",
       "AvgCAHA     0\n",
       "BFECAHH     0\n",
       "BFECAHA     0\n",
       "Length: 119, dtype: int64"
      ]
     },
     "execution_count": 11,
     "metadata": {},
     "output_type": "execute_result"
    }
   ],
   "execution_count": 11
  },
  {
   "metadata": {},
   "cell_type": "markdown",
   "source": "- Standardiser les noms d’équipes (éviter doublons ou variantes)",
   "id": "648f8b98fec3268a"
  },
  {
   "metadata": {
    "ExecuteTime": {
     "end_time": "2025-09-03T14:17:15.147777Z",
     "start_time": "2025-09-03T14:17:15.137571Z"
    }
   },
   "cell_type": "code",
   "source": "sorted(set(df['HomeTeam']) | set(df['AwayTeam']))",
   "id": "e0e8198cf463b75",
   "outputs": [
    {
     "data": {
      "text/plain": [
       "['Angers',\n",
       " 'Auxerre',\n",
       " 'Brest',\n",
       " 'Le Havre',\n",
       " 'Lens',\n",
       " 'Lille',\n",
       " 'Lyon',\n",
       " 'Marseille',\n",
       " 'Monaco',\n",
       " 'Montpellier',\n",
       " 'Nantes',\n",
       " 'Nice',\n",
       " 'Paris SG',\n",
       " 'Reims',\n",
       " 'Rennes',\n",
       " 'St Etienne',\n",
       " 'Strasbourg',\n",
       " 'Toulouse']"
      ]
     },
     "execution_count": 16,
     "metadata": {},
     "output_type": "execute_result"
    }
   ],
   "execution_count": 16
  },
  {
   "metadata": {},
   "cell_type": "markdown",
   "source": "- Convertir les colonnes de date en datetime pour faciliter les filtrages par période",
   "id": "597311ae29413137"
  },
  {
   "metadata": {
    "ExecuteTime": {
     "end_time": "2025-09-03T14:29:30.314115Z",
     "start_time": "2025-09-03T14:29:30.307014Z"
    }
   },
   "cell_type": "code",
   "source": [
    "date = pd.to_datetime(df['Date'], format=\"%d/%m/%Y\")\n",
    "print(date)"
   ],
   "id": "56c7e3cb56fce84b",
   "outputs": [
    {
     "name": "stdout",
     "output_type": "stream",
     "text": [
      "0     2024-08-16\n",
      "1     2024-08-17\n",
      "2     2024-08-17\n",
      "3     2024-08-17\n",
      "4     2024-08-18\n",
      "         ...    \n",
      "301   2025-05-17\n",
      "302   2025-05-17\n",
      "303   2025-05-17\n",
      "304   2025-05-17\n",
      "305   2025-05-17\n",
      "Name: Date, Length: 306, dtype: datetime64[ns]\n"
     ]
    }
   ],
   "execution_count": 46
  },
  {
   "metadata": {},
   "cell_type": "markdown",
   "source": [
    "- Créer des colonnes dérivées\n",
    "    - GoalDiff = HomeGoals - AwayGoals\n",
    "    - TotalGoals = HomeGoals + AwayGoals\n",
    "    - MatchResultBinary (optionnel)"
   ],
   "id": "500dd51bb02ca86e"
  },
  {
   "metadata": {
    "ExecuteTime": {
     "end_time": "2025-09-03T15:08:02.511210Z",
     "start_time": "2025-09-03T15:08:02.489214Z"
    }
   },
   "cell_type": "code",
   "source": [
    "df[\"GoalDiff\"] = df[\"FTHG\"] - df[\"FTAG\"]\n",
    "df[\"TotalGoals\"] = df[\"FTHG\"] + df[\"FTAG\"]\n",
    "# df[\"AwayWin\"] = np.where(df[\"FTR\"] == \"A\", 1, 0)\n",
    "# df.drop(\"NomDeLaColonne\", axis=1\n",
    "df.head()"
   ],
   "id": "a4737a3a18b2a2a7",
   "outputs": [
    {
     "data": {
      "text/plain": [
       "  Div        Date   Time  HomeTeam    AwayTeam  FTHG  FTAG FTR  HTHG  HTAG  \\\n",
       "0  F1  16/08/2024  19:45  Le Havre    Paris SG     1     4   A     0     1   \n",
       "1  F1  17/08/2024  16:00     Brest   Marseille     1     5   A     1     3   \n",
       "2  F1  17/08/2024  18:00     Reims       Lille     0     2   A     0     1   \n",
       "3  F1  17/08/2024  20:00    Monaco  St Etienne     1     0   H     1     0   \n",
       "4  F1  18/08/2024  14:00   Auxerre        Nice     2     1   H     1     1   \n",
       "\n",
       "   ... PCAHH  PCAHA  MaxCAHH  MaxCAHA  AvgCAHH  AvgCAHA  BFECAHH  BFECAHA  \\\n",
       "0  ...  1.95   1.97     1.95     2.02     1.89     1.95     1.95     2.02   \n",
       "1  ...  1.91   2.02     1.91     2.08     1.85     2.01     1.90     2.09   \n",
       "2  ...  2.14   1.81     2.14     1.85     2.07     1.80     2.13     1.86   \n",
       "3  ...  2.00   1.93     2.00     2.01     1.95     1.91     1.95     2.00   \n",
       "4  ...  1.82   2.13     1.83     2.17     1.77     2.10     1.84     2.16   \n",
       "\n",
       "   GoalDiff  TotalGoals  \n",
       "0        -3           5  \n",
       "1        -4           6  \n",
       "2        -2           2  \n",
       "3         1           1  \n",
       "4         1           3  \n",
       "\n",
       "[5 rows x 121 columns]"
      ],
      "text/html": [
       "<div>\n",
       "<style scoped>\n",
       "    .dataframe tbody tr th:only-of-type {\n",
       "        vertical-align: middle;\n",
       "    }\n",
       "\n",
       "    .dataframe tbody tr th {\n",
       "        vertical-align: top;\n",
       "    }\n",
       "\n",
       "    .dataframe thead th {\n",
       "        text-align: right;\n",
       "    }\n",
       "</style>\n",
       "<table border=\"1\" class=\"dataframe\">\n",
       "  <thead>\n",
       "    <tr style=\"text-align: right;\">\n",
       "      <th></th>\n",
       "      <th>Div</th>\n",
       "      <th>Date</th>\n",
       "      <th>Time</th>\n",
       "      <th>HomeTeam</th>\n",
       "      <th>AwayTeam</th>\n",
       "      <th>FTHG</th>\n",
       "      <th>FTAG</th>\n",
       "      <th>FTR</th>\n",
       "      <th>HTHG</th>\n",
       "      <th>HTAG</th>\n",
       "      <th>...</th>\n",
       "      <th>PCAHH</th>\n",
       "      <th>PCAHA</th>\n",
       "      <th>MaxCAHH</th>\n",
       "      <th>MaxCAHA</th>\n",
       "      <th>AvgCAHH</th>\n",
       "      <th>AvgCAHA</th>\n",
       "      <th>BFECAHH</th>\n",
       "      <th>BFECAHA</th>\n",
       "      <th>GoalDiff</th>\n",
       "      <th>TotalGoals</th>\n",
       "    </tr>\n",
       "  </thead>\n",
       "  <tbody>\n",
       "    <tr>\n",
       "      <th>0</th>\n",
       "      <td>F1</td>\n",
       "      <td>16/08/2024</td>\n",
       "      <td>19:45</td>\n",
       "      <td>Le Havre</td>\n",
       "      <td>Paris SG</td>\n",
       "      <td>1</td>\n",
       "      <td>4</td>\n",
       "      <td>A</td>\n",
       "      <td>0</td>\n",
       "      <td>1</td>\n",
       "      <td>...</td>\n",
       "      <td>1.95</td>\n",
       "      <td>1.97</td>\n",
       "      <td>1.95</td>\n",
       "      <td>2.02</td>\n",
       "      <td>1.89</td>\n",
       "      <td>1.95</td>\n",
       "      <td>1.95</td>\n",
       "      <td>2.02</td>\n",
       "      <td>-3</td>\n",
       "      <td>5</td>\n",
       "    </tr>\n",
       "    <tr>\n",
       "      <th>1</th>\n",
       "      <td>F1</td>\n",
       "      <td>17/08/2024</td>\n",
       "      <td>16:00</td>\n",
       "      <td>Brest</td>\n",
       "      <td>Marseille</td>\n",
       "      <td>1</td>\n",
       "      <td>5</td>\n",
       "      <td>A</td>\n",
       "      <td>1</td>\n",
       "      <td>3</td>\n",
       "      <td>...</td>\n",
       "      <td>1.91</td>\n",
       "      <td>2.02</td>\n",
       "      <td>1.91</td>\n",
       "      <td>2.08</td>\n",
       "      <td>1.85</td>\n",
       "      <td>2.01</td>\n",
       "      <td>1.90</td>\n",
       "      <td>2.09</td>\n",
       "      <td>-4</td>\n",
       "      <td>6</td>\n",
       "    </tr>\n",
       "    <tr>\n",
       "      <th>2</th>\n",
       "      <td>F1</td>\n",
       "      <td>17/08/2024</td>\n",
       "      <td>18:00</td>\n",
       "      <td>Reims</td>\n",
       "      <td>Lille</td>\n",
       "      <td>0</td>\n",
       "      <td>2</td>\n",
       "      <td>A</td>\n",
       "      <td>0</td>\n",
       "      <td>1</td>\n",
       "      <td>...</td>\n",
       "      <td>2.14</td>\n",
       "      <td>1.81</td>\n",
       "      <td>2.14</td>\n",
       "      <td>1.85</td>\n",
       "      <td>2.07</td>\n",
       "      <td>1.80</td>\n",
       "      <td>2.13</td>\n",
       "      <td>1.86</td>\n",
       "      <td>-2</td>\n",
       "      <td>2</td>\n",
       "    </tr>\n",
       "    <tr>\n",
       "      <th>3</th>\n",
       "      <td>F1</td>\n",
       "      <td>17/08/2024</td>\n",
       "      <td>20:00</td>\n",
       "      <td>Monaco</td>\n",
       "      <td>St Etienne</td>\n",
       "      <td>1</td>\n",
       "      <td>0</td>\n",
       "      <td>H</td>\n",
       "      <td>1</td>\n",
       "      <td>0</td>\n",
       "      <td>...</td>\n",
       "      <td>2.00</td>\n",
       "      <td>1.93</td>\n",
       "      <td>2.00</td>\n",
       "      <td>2.01</td>\n",
       "      <td>1.95</td>\n",
       "      <td>1.91</td>\n",
       "      <td>1.95</td>\n",
       "      <td>2.00</td>\n",
       "      <td>1</td>\n",
       "      <td>1</td>\n",
       "    </tr>\n",
       "    <tr>\n",
       "      <th>4</th>\n",
       "      <td>F1</td>\n",
       "      <td>18/08/2024</td>\n",
       "      <td>14:00</td>\n",
       "      <td>Auxerre</td>\n",
       "      <td>Nice</td>\n",
       "      <td>2</td>\n",
       "      <td>1</td>\n",
       "      <td>H</td>\n",
       "      <td>1</td>\n",
       "      <td>1</td>\n",
       "      <td>...</td>\n",
       "      <td>1.82</td>\n",
       "      <td>2.13</td>\n",
       "      <td>1.83</td>\n",
       "      <td>2.17</td>\n",
       "      <td>1.77</td>\n",
       "      <td>2.10</td>\n",
       "      <td>1.84</td>\n",
       "      <td>2.16</td>\n",
       "      <td>1</td>\n",
       "      <td>3</td>\n",
       "    </tr>\n",
       "  </tbody>\n",
       "</table>\n",
       "<p>5 rows × 121 columns</p>\n",
       "</div>"
      ]
     },
     "execution_count": 64,
     "metadata": {},
     "output_type": "execute_result"
    }
   ],
   "execution_count": 64
  },
  {
   "metadata": {},
   "cell_type": "markdown",
   "source": "# 2. Analyse de performance dynamique",
   "id": "222956d30d345b6"
  },
  {
   "metadata": {},
   "cell_type": "markdown",
   "source": "**Objectif :** suivre l’évolution des équipes au fil de la saison",
   "id": "1cbf20f5e7b8268b"
  },
  {
   "metadata": {},
   "cell_type": "markdown",
   "source": "- Calculer les points cumulés par journée pour chaque équipe (`cumsum`)",
   "id": "15939f6415be4fe0"
  },
  {
   "metadata": {
    "ExecuteTime": {
     "end_time": "2025-09-03T16:26:19.697298Z",
     "start_time": "2025-09-03T16:26:19.681484Z"
    }
   },
   "cell_type": "code",
   "source": [
    "# Créer une colonne \"Points\" pour chaque match\n",
    "df[\"PointsHome\"] = np.where(df[\"FTR\"] == \"H\", 3,\n",
    "                   np.where(df[\"FTR\"] == \"D\", 1, 0))\n",
    "\n",
    "df[\"PointsAway\"] = np.where(df[\"FTR\"] == \"A\", 3,\n",
    "                   np.where(df[\"FTR\"] == \"D\", 1, 0))\n",
    "\n",
    "# Création DataFrame Home & Away\n",
    "dfHome = pd.DataFrame({\n",
    "    \"Team\": df[\"HomeTeam\"],\n",
    "    \"Points\": df[\"PointsHome\"],\n",
    "    \"MatchDay\": date\n",
    "})\n",
    "\n",
    "dfAway = pd.DataFrame({\n",
    "    \"Team\": df[\"AwayTeam\"],\n",
    "    \"Points\": df[\"PointsAway\"],\n",
    "    \"MatchDay\": date\n",
    "})\n",
    "\n",
    "# Concaténer les 2 DataFrame\n",
    "dfAll = pd.concat([dfHome, dfAway], ignore_index=True)\n",
    "\n",
    "# Trier par équipe et par date\n",
    "dfAll.sort_values([\"Team\", \"MatchDay\"], inplace = True)\n",
    "\n",
    "# Calculer les points cumulés\n",
    "df[\"TotalPoints\"] = dfAll.groupby([\"Team\"])[\"Points\"].cumsum()\n",
    "\n",
    "\n",
    "# OPTIONNEL\n",
    "# Grouper par équipe et sommer les points\n",
    "dfRanking = dfAll.groupby(\"Team\")[\"Points\"].sum().reset_index()\n",
    "\n",
    "# Trier par points décroissants\n",
    "dfRanking = dfRanking.sort_values(\"Points\", ascending=False)\n",
    "print(dfRanking)"
   ],
   "id": "6af8118a652e6820",
   "outputs": [
    {
     "name": "stdout",
     "output_type": "stream",
     "text": [
      "           Team  Points\n",
      "12     Paris SG      84\n",
      "7     Marseille      65\n",
      "8        Monaco      61\n",
      "5         Lille      60\n",
      "11         Nice      60\n",
      "16   Strasbourg      57\n",
      "6          Lyon      57\n",
      "4          Lens      52\n",
      "2         Brest      50\n",
      "1       Auxerre      42\n",
      "17     Toulouse      42\n",
      "14       Rennes      41\n",
      "0        Angers      36\n",
      "10       Nantes      36\n",
      "3      Le Havre      34\n",
      "13        Reims      33\n",
      "15   St Etienne      30\n",
      "9   Montpellier      16\n"
     ]
    }
   ],
   "execution_count": 94
  },
  {
   "metadata": {},
   "cell_type": "markdown",
   "source": "- Tracer l’évolution du classement avec un **line plot** interactif",
   "id": "a6c0258830abd1b7"
  },
  {
   "metadata": {},
   "cell_type": "code",
   "outputs": [],
   "execution_count": null,
   "source": "",
   "id": "1526b825b9c350ec"
  },
  {
   "metadata": {},
   "cell_type": "markdown",
   "source": "- Visualiser les séries de victoires/défaites via un **heatmap** des performances par journée",
   "id": "f468e774227ace0d"
  },
  {
   "metadata": {},
   "cell_type": "code",
   "outputs": [],
   "execution_count": null,
   "source": "",
   "id": "8c5d2b18a5cecb53"
  },
  {
   "metadata": {},
   "cell_type": "markdown",
   "source": "# 3. Analyse des “big matches” et rivalités",
   "id": "8564d01a1457fd2a"
  },
  {
   "metadata": {},
   "cell_type": "markdown",
   "source": "**Objectif :** identifier les matchs clés de la saison",
   "id": "406226f590fd56ba"
  },
  {
   "metadata": {},
   "cell_type": "markdown",
   "source": "- Sélectionner les matchs entre équipes du top 5 ou top vs bottom",
   "id": "acb59464d65ac7a1"
  },
  {
   "metadata": {},
   "cell_type": "code",
   "outputs": [],
   "execution_count": null,
   "source": "",
   "id": "16109ec00ddc728d"
  },
  {
   "metadata": {},
   "cell_type": "markdown",
   "source": "- Calculer les marges de victoire moyennes pour ces rencontres",
   "id": "d48ffb862e18c507"
  },
  {
   "metadata": {},
   "cell_type": "code",
   "outputs": [],
   "execution_count": null,
   "source": "",
   "id": "d11797dc5fa5b673"
  },
  {
   "metadata": {},
   "cell_type": "markdown",
   "source": "- Comparer la variance des cotes pour ces matchs (bookmakers moins d’accord)",
   "id": "b9483a60c682f306"
  },
  {
   "metadata": {},
   "cell_type": "code",
   "outputs": [],
   "execution_count": null,
   "source": "",
   "id": "3f45a26543b2d1cb"
  },
  {
   "metadata": {},
   "cell_type": "markdown",
   "source": "- Visualisation: scatter plot des scores vs cotes ou histogramme des marges",
   "id": "ebc241f796d7771f"
  },
  {
   "metadata": {},
   "cell_type": "code",
   "outputs": [],
   "execution_count": null,
   "source": "",
   "id": "72d78a4ca8680de1"
  },
  {
   "metadata": {},
   "cell_type": "markdown",
   "source": "# 4. Analyse “fan insights”",
   "id": "65dc0c58e7dbec20"
  },
  {
   "metadata": {},
   "cell_type": "markdown",
   "source": "**Objectif :** comprendre ce qu’un supporter ou analyste peut retirer des stats",
   "id": "7161f5c67d741a2"
  },
  {
   "metadata": {},
   "cell_type": "markdown",
   "source": "- Taux de buts marqués après la mi-temps vs avant",
   "id": "cb4df1898b4f2b3f"
  },
  {
   "metadata": {},
   "cell_type": "code",
   "outputs": [],
   "execution_count": null,
   "source": "",
   "id": "7d39a184e66340fd"
  },
  {
   "metadata": {},
   "cell_type": "markdown",
   "source": "- Cartons et fautes par match pour les équipes “agressives”",
   "id": "53b8daad81371b24"
  },
  {
   "metadata": {},
   "cell_type": "code",
   "outputs": [],
   "execution_count": null,
   "source": "",
   "id": "482fe38c07e50330"
  },
  {
   "metadata": {},
   "cell_type": "markdown",
   "source": "- Ratio tirs cadrés → buts pour identifier les équipes les plus efficaces",
   "id": "dea3ac3218094c74"
  },
  {
   "metadata": {},
   "cell_type": "code",
   "outputs": [],
   "execution_count": null,
   "source": "",
   "id": "d617c821bc3b9af8"
  },
  {
   "metadata": {},
   "cell_type": "markdown",
   "source": "- Visualisation: radar chart par équipe ou bar plots comparatif",
   "id": "44272e67ee0a61ad"
  },
  {
   "metadata": {},
   "cell_type": "code",
   "outputs": [],
   "execution_count": null,
   "source": "",
   "id": "25ac1f9ab51851dc"
  },
  {
   "metadata": {},
   "cell_type": "markdown",
   "source": "# 5. Exploration prédictive simplifiée",
   "id": "3340ea6ba496a8ca"
  },
  {
   "metadata": {},
   "cell_type": "markdown",
   "source": "**Objectif :** mettre en évidence des patterns sans entraîner un modèle complexe",
   "id": "fbc7600e2077312d"
  },
  {
   "metadata": {},
   "cell_type": "markdown",
   "source": "- Créer un score “favori probable” basé sur les cotes",
   "id": "b2431b6a6590a7dc"
  },
  {
   "metadata": {},
   "cell_type": "code",
   "outputs": [],
   "execution_count": null,
   "source": "",
   "id": "3532acf78cacb2a1"
  },
  {
   "metadata": {},
   "cell_type": "markdown",
   "source": "- Vérifier si le favori “prévu” gagne réellement plus de 70 % du temps",
   "id": "89c26bbef4f1cee6"
  },
  {
   "metadata": {},
   "cell_type": "code",
   "outputs": [],
   "execution_count": null,
   "source": "",
   "id": "d9f2defa43e1a274"
  },
  {
   "metadata": {},
   "cell_type": "markdown",
   "source": "- Visualiser la fiabilité des prédictions avec des **bar charts** ou **heatmaps**",
   "id": "93aa7c31812bac22"
  },
  {
   "metadata": {},
   "cell_type": "code",
   "outputs": [],
   "execution_count": null,
   "source": "",
   "id": "82b17ee6ee64ea07"
  },
  {
   "metadata": {},
   "cell_type": "markdown",
   "source": "# 6. Approche data storytelling",
   "id": "349decf2547b6d52"
  },
  {
   "metadata": {},
   "cell_type": "markdown",
   "source": "**Objectif :** raconter une histoire visuelle sur la saison",
   "id": "d6d6182cdfa80436"
  },
  {
   "metadata": {},
   "cell_type": "markdown",
   "source": "- “Qui a été la meilleure équipe à domicile vs extérieur ?” → bar chart",
   "id": "668cb9b3a1356ed2"
  },
  {
   "metadata": {},
   "cell_type": "code",
   "outputs": [],
   "execution_count": null,
   "source": "",
   "id": "f97e7c326e4b50e3"
  },
  {
   "metadata": {},
   "cell_type": "markdown",
   "source": "- “Les matchs les plus serrés” → scatter plot des scores",
   "id": "837566d2a42f897f"
  },
  {
   "metadata": {},
   "cell_type": "code",
   "outputs": [],
   "execution_count": null,
   "source": "",
   "id": "151010638e594521"
  },
  {
   "metadata": {},
   "cell_type": "markdown",
   "source": "- “Les surprises de la saison” → points où la cote favori ne correspond pas au résultat",
   "id": "a19e9c2b71d03728"
  },
  {
   "metadata": {},
   "cell_type": "code",
   "outputs": [],
   "execution_count": null,
   "source": "",
   "id": "e059edf8a7b02d1e"
  },
  {
   "metadata": {},
   "cell_type": "markdown",
   "source": "# 7. Manipulations Python typiques",
   "id": "406218fdd268e873"
  },
  {
   "metadata": {},
   "cell_type": "markdown",
   "source": "- `groupby` par équipe ou période pour résumer les stats",
   "id": "a9775b6e393d7be"
  },
  {
   "metadata": {},
   "cell_type": "code",
   "outputs": [],
   "execution_count": null,
   "source": "",
   "id": "83f6fe08c868968b"
  },
  {
   "metadata": {},
   "cell_type": "markdown",
   "source": "- `merge` ou `concat` pour combiner domicile/extérieur si nécessaire",
   "id": "73e1c4cc1cf18621"
  },
  {
   "metadata": {},
   "cell_type": "code",
   "outputs": [],
   "execution_count": null,
   "source": "",
   "id": "9fa9074ee711d9e"
  },
  {
   "metadata": {},
   "cell_type": "markdown",
   "source": "- Création de colonnes dérivées avec `apply` ou `np.where`",
   "id": "5c388d2e73d1c793"
  },
  {
   "metadata": {},
   "cell_type": "code",
   "outputs": [],
   "execution_count": null,
   "source": "",
   "id": "fac0285a3c472e25"
  },
  {
   "metadata": {},
   "cell_type": "markdown",
   "source": "- Calcul de ratios et métriques : efficacité tirs → buts, cartons/match, over/under accuracy",
   "id": "928f6db8ea228408"
  },
  {
   "metadata": {},
   "cell_type": "code",
   "outputs": [],
   "execution_count": null,
   "source": "",
   "id": "3c754366f8da1e99"
  },
  {
   "metadata": {},
   "cell_type": "markdown",
   "source": "# 8. Visualisations métier",
   "id": "156ab5e024ce1fcd"
  },
  {
   "metadata": {},
   "cell_type": "markdown",
   "source": "- Classement final des équipes (bar chart)",
   "id": "9e3c79cb71c5c110"
  },
  {
   "metadata": {},
   "cell_type": "code",
   "outputs": [],
   "execution_count": null,
   "source": "",
   "id": "ba5537cc644eb57b"
  },
  {
   "metadata": {},
   "cell_type": "markdown",
   "source": "- Bilan domicile vs extérieur (side-by-side bar chart)",
   "id": "2817e3f2693276fe"
  },
  {
   "metadata": {},
   "cell_type": "code",
   "outputs": [],
   "execution_count": null,
   "source": "",
   "id": "2e95f695e507c82b"
  },
  {
   "metadata": {},
   "cell_type": "markdown",
   "source": "- Heatmap de corrélation tirs / buts / cartons",
   "id": "58d878ee798e87d3"
  },
  {
   "metadata": {},
   "cell_type": "code",
   "outputs": [],
   "execution_count": null,
   "source": "",
   "id": "7c4ee66bef449fe4"
  },
  {
   "metadata": {},
   "cell_type": "markdown",
   "source": "- ROI d’une stratégie simple de pari (line chart ou bar chart)",
   "id": "fa04f56987e6523b"
  },
  {
   "metadata": {},
   "cell_type": "code",
   "outputs": [],
   "execution_count": null,
   "source": "",
   "id": "f9bd09ce057fb08c"
  },
  {
   "metadata": {},
   "cell_type": "markdown",
   "source": "- Comparaison probabilité implicite vs fréquence réelle (scatter plot + line)",
   "id": "da1d5b69112f1ef4"
  },
  {
   "metadata": {},
   "cell_type": "code",
   "outputs": [],
   "execution_count": null,
   "source": "",
   "id": "3da06bcedd973632"
  }
 ],
 "metadata": {
  "kernelspec": {
   "display_name": "Python 3",
   "language": "python",
   "name": "python3"
  },
  "language_info": {
   "codemirror_mode": {
    "name": "ipython",
    "version": 2
   },
   "file_extension": ".py",
   "mimetype": "text/x-python",
   "name": "python",
   "nbconvert_exporter": "python",
   "pygments_lexer": "ipython2",
   "version": "2.7.6"
  }
 },
 "nbformat": 4,
 "nbformat_minor": 5
}
